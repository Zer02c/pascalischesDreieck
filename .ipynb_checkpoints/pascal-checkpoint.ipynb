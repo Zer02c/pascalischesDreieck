{
 "cells": [
  {
   "cell_type": "code",
   "execution_count": 1,
   "id": "19cf020a-21c5-46ac-b48d-ab7b87871ca3",
   "metadata": {},
   "outputs": [],
   "source": [
    "from sympy import symbols\n",
    "from sympy import *"
   ]
  },
  {
   "cell_type": "code",
   "execution_count": 2,
   "id": "240056cf-6e38-46b2-8dc4-4177bb4ab152",
   "metadata": {},
   "outputs": [],
   "source": [
    "arr : int  = []"
   ]
  },
  {
   "cell_type": "code",
   "execution_count": 3,
   "id": "a9cc3776-77e8-49af-960b-673bd6e1f632",
   "metadata": {},
   "outputs": [],
   "source": [
    "a,b = symbols('a b')"
   ]
  },
  {
   "cell_type": "code",
   "execution_count": 4,
   "id": "a474d8b3-5787-4eca-ace7-f682030c6ba6",
   "metadata": {},
   "outputs": [
    {
     "name": "stdin",
     "output_type": "stream",
     "text": [
      "bitte geben sie die a an:  4\n"
     ]
    }
   ],
   "source": [
    "first : int = int(input(\"bitte geben sie die a an: \"))"
   ]
  },
  {
   "cell_type": "code",
   "execution_count": 5,
   "id": "c6792b39-5448-4774-93a5-345135eeba24",
   "metadata": {},
   "outputs": [],
   "source": [
    "arr.append(first)"
   ]
  },
  {
   "cell_type": "code",
   "execution_count": 6,
   "id": "3090f73c-aa1a-4694-9ec4-40e44cf455a7",
   "metadata": {},
   "outputs": [
    {
     "name": "stdin",
     "output_type": "stream",
     "text": [
      "bitte geben sie die b ein:  3\n"
     ]
    }
   ],
   "source": [
    "second : int = int(input(\"bitte geben sie die b ein: \"))"
   ]
  },
  {
   "cell_type": "code",
   "execution_count": 7,
   "id": "5045b691-0bad-44d5-8cda-0da16852c3ab",
   "metadata": {},
   "outputs": [],
   "source": [
    "arr.append(second)"
   ]
  },
  {
   "cell_type": "code",
   "execution_count": 8,
   "id": "8d05a4e1-dc99-42c0-868d-731354ed210e",
   "metadata": {},
   "outputs": [],
   "source": [
    "arr[0] = a * first\n",
    "arr[1] = b * second"
   ]
  },
  {
   "cell_type": "code",
   "execution_count": 9,
   "id": "1c60bc20-9c0f-4052-8633-fb1ef9e52ff0",
   "metadata": {},
   "outputs": [],
   "source": [
    "bin = []"
   ]
  },
  {
   "cell_type": "code",
   "execution_count": 14,
   "id": "173cfc2f-0d61-4451-9ada-3429534b4785",
   "metadata": {},
   "outputs": [],
   "source": [
    "for i in range(len(arr)):\n",
    "    for d in range(len(arr)):\n",
    "        bin.append(arr[i] * arr[d])"
   ]
  },
  {
   "cell_type": "code",
   "execution_count": 11,
   "id": "d511c02c-02dd-4cab-9ecb-ae5bae93c435",
   "metadata": {},
   "outputs": [],
   "source": [
    "for i in range(len(bin)-1):\n",
    "    if bin[i] == bin[i - 1]:\n",
    "        bin[i] = bin[i] + bin[i - 1]\n",
    "        bin.pop(i - 1)\n",
    "    else:\n",
    "        pass"
   ]
  },
  {
   "cell_type": "code",
   "execution_count": 12,
   "id": "869dbb4e-2a1f-4bce-8354-ba3b3e0f159d",
   "metadata": {},
   "outputs": [
    {
     "name": "stdout",
     "output_type": "stream",
     "text": [
      "16*a**2 + 24*a*b + 9*b**2 "
     ]
    }
   ],
   "source": [
    "for i in range(len(bin)):\n",
    "    print(bin[i], end=\" \")\n",
    "    if i < len(bin)-1:\n",
    "        print(\"+\", end=\" \")"
   ]
  },
  {
   "cell_type": "code",
   "execution_count": 13,
   "id": "bf12d5fd-a9ce-4af5-8858-3e6ced18f7f8",
   "metadata": {},
   "outputs": [
    {
     "name": "stdout",
     "output_type": "stream",
     "text": [
      "16*a**2\n",
      "24*a*b\n",
      "9*b**2\n"
     ]
    }
   ],
   "source": [
    "for i in range(len(bin)):\n",
    "    print(bin[i])"
   ]
  },
  {
   "cell_type": "raw",
   "id": "dba3c780-296d-479f-b5e0-f6a824885bc1",
   "metadata": {
    "editable": true,
    "slideshow": {
     "slide_type": ""
    },
    "tags": []
   },
   "source": [
    "# link ausklammern: https://www.kopfload.de/doku.php?id=lager:mathe:python\n",
    "# link ausklammern:https://docs.sympy.org/latest/tutorials/intro-tutorial/calculus.html\n",
    "#pascalisches dreieck: https://de.wikipedia.org/wiki/Pascalsches_Dreieck#Anwendung\n",
    "# binominal koefizent: https://de.wikipedia.org/wiki/Binomialkoeffizient\n",
    "# denke gute erklaerung: binominalerkoefizent"
   ]
  }
 ],
 "metadata": {
  "kernelspec": {
   "display_name": "Python 3 (ipykernel)",
   "language": "python",
   "name": "python3"
  },
  "language_info": {
   "codemirror_mode": {
    "name": "ipython",
    "version": 3
   },
   "file_extension": ".py",
   "mimetype": "text/x-python",
   "name": "python",
   "nbconvert_exporter": "python",
   "pygments_lexer": "ipython3",
   "version": "3.11.4"
  }
 },
 "nbformat": 4,
 "nbformat_minor": 5
}
